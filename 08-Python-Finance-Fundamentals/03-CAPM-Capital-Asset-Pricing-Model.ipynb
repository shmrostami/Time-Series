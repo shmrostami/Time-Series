{
 "cells": [
  {
   "cell_type": "markdown",
   "metadata": {},
   "source": [
    "# CAPM - Capital Asset Pricing Model \n",
    "\n",
    "Watch the video for the full overview.\n",
    "\n",
    "Portfolio Returns:"
   ]
  },
  {
   "cell_type": "markdown",
   "metadata": {},
   "source": [
    "## $r_p(t) = \\sum\\limits_{i}^{n}w_i r_i(t)$"
   ]
  },
  {
   "cell_type": "markdown",
   "metadata": {},
   "source": [
    "Market Weights:"
   ]
  },
  {
   "cell_type": "markdown",
   "metadata": {},
   "source": [
    "## $ w_i = \\frac{MarketCap_i}{\\sum_{j}^{n}{MarketCap_j}} $\n"
   ]
  },
  {
   "cell_type": "markdown",
   "metadata": {},
   "source": [
    "### CAPM of a portfolio"
   ]
  },
  {
   "cell_type": "markdown",
   "metadata": {},
   "source": [
    "\n",
    "## $ r_p(t) = \\beta_pr_m(t) + \\sum\\limits_{i}^{n}w_i \\alpha_i(t)$"
   ]
  },
  {
   "cell_type": "code",
   "execution_count": 1,
   "metadata": {
    "tags": []
   },
   "outputs": [],
   "source": [
    "# Model CAPM as a simple linear regression"
   ]
  },
  {
   "cell_type": "code",
   "execution_count": 2,
   "metadata": {
    "tags": []
   },
   "outputs": [],
   "source": [
    "from scipy import stats"
   ]
  },
  {
   "cell_type": "code",
   "execution_count": 3,
   "metadata": {},
   "outputs": [
    {
     "name": "stdout",
     "output_type": "stream",
     "text": [
      "Help on function linregress in module scipy.stats._stats_mstats_common:\n",
      "\n",
      "linregress(x, y=None, alternative='two-sided')\n",
      "    Calculate a linear least-squares regression for two sets of measurements.\n",
      "    \n",
      "    Parameters\n",
      "    ----------\n",
      "    x, y : array_like\n",
      "        Two sets of measurements.  Both arrays should have the same length.  If\n",
      "        only `x` is given (and ``y=None``), then it must be a two-dimensional\n",
      "        array where one dimension has length 2.  The two sets of measurements\n",
      "        are then found by splitting the array along the length-2 dimension. In\n",
      "        the case where ``y=None`` and `x` is a 2x2 array, ``linregress(x)`` is\n",
      "        equivalent to ``linregress(x[0], x[1])``.\n",
      "    alternative : {'two-sided', 'less', 'greater'}, optional\n",
      "        Defines the alternative hypothesis. Default is 'two-sided'.\n",
      "        The following options are available:\n",
      "    \n",
      "        * 'two-sided': the slope of the regression line is nonzero\n",
      "        * 'less': the slope of the regression line is less than zero\n",
      "        * 'greater':  the slope of the regression line is greater than zero\n",
      "    \n",
      "        .. versionadded:: 1.7.0\n",
      "    \n",
      "    Returns\n",
      "    -------\n",
      "    result : ``LinregressResult`` instance\n",
      "        The return value is an object with the following attributes:\n",
      "    \n",
      "        slope : float\n",
      "            Slope of the regression line.\n",
      "        intercept : float\n",
      "            Intercept of the regression line.\n",
      "        rvalue : float\n",
      "            Correlation coefficient.\n",
      "        pvalue : float\n",
      "            The p-value for a hypothesis test whose null hypothesis is\n",
      "            that the slope is zero, using Wald Test with t-distribution of\n",
      "            the test statistic. See `alternative` above for alternative\n",
      "            hypotheses.\n",
      "        stderr : float\n",
      "            Standard error of the estimated slope (gradient), under the\n",
      "            assumption of residual normality.\n",
      "        intercept_stderr : float\n",
      "            Standard error of the estimated intercept, under the assumption\n",
      "            of residual normality.\n",
      "    \n",
      "    See Also\n",
      "    --------\n",
      "    scipy.optimize.curve_fit :\n",
      "        Use non-linear least squares to fit a function to data.\n",
      "    scipy.optimize.leastsq :\n",
      "        Minimize the sum of squares of a set of equations.\n",
      "    \n",
      "    Notes\n",
      "    -----\n",
      "    Missing values are considered pair-wise: if a value is missing in `x`,\n",
      "    the corresponding value in `y` is masked.\n",
      "    \n",
      "    For compatibility with older versions of SciPy, the return value acts\n",
      "    like a ``namedtuple`` of length 5, with fields ``slope``, ``intercept``,\n",
      "    ``rvalue``, ``pvalue`` and ``stderr``, so one can continue to write::\n",
      "    \n",
      "        slope, intercept, r, p, se = linregress(x, y)\n",
      "    \n",
      "    With that style, however, the standard error of the intercept is not\n",
      "    available.  To have access to all the computed values, including the\n",
      "    standard error of the intercept, use the return value as an object\n",
      "    with attributes, e.g.::\n",
      "    \n",
      "        result = linregress(x, y)\n",
      "        print(result.intercept, result.intercept_stderr)\n",
      "    \n",
      "    Examples\n",
      "    --------\n",
      "    >>> import matplotlib.pyplot as plt\n",
      "    >>> from scipy import stats\n",
      "    >>> rng = np.random.default_rng()\n",
      "    \n",
      "    Generate some data:\n",
      "    \n",
      "    >>> x = rng.random(10)\n",
      "    >>> y = 1.6*x + rng.random(10)\n",
      "    \n",
      "    Perform the linear regression:\n",
      "    \n",
      "    >>> res = stats.linregress(x, y)\n",
      "    \n",
      "    Coefficient of determination (R-squared):\n",
      "    \n",
      "    >>> print(f\"R-squared: {res.rvalue**2:.6f}\")\n",
      "    R-squared: 0.717533\n",
      "    \n",
      "    Plot the data along with the fitted line:\n",
      "    \n",
      "    >>> plt.plot(x, y, 'o', label='original data')\n",
      "    >>> plt.plot(x, res.intercept + res.slope*x, 'r', label='fitted line')\n",
      "    >>> plt.legend()\n",
      "    >>> plt.show()\n",
      "    \n",
      "    Calculate 95% confidence interval on slope and intercept:\n",
      "    \n",
      "    >>> # Two-sided inverse Students t-distribution\n",
      "    >>> # p - probability, df - degrees of freedom\n",
      "    >>> from scipy.stats import t\n",
      "    >>> tinv = lambda p, df: abs(t.ppf(p/2, df))\n",
      "    \n",
      "    >>> ts = tinv(0.05, len(x)-2)\n",
      "    >>> print(f\"slope (95%): {res.slope:.6f} +/- {ts*res.stderr:.6f}\")\n",
      "    slope (95%): 1.453392 +/- 0.743465\n",
      "    >>> print(f\"intercept (95%): {res.intercept:.6f}\"\n",
      "    ...       f\" +/- {ts*res.intercept_stderr:.6f}\")\n",
      "    intercept (95%): 0.616950 +/- 0.544475\n",
      "\n"
     ]
    }
   ],
   "source": [
    "help(stats.linregress)"
   ]
  },
  {
   "cell_type": "code",
   "execution_count": 4,
   "metadata": {
    "tags": []
   },
   "outputs": [],
   "source": [
    "import pandas as pd"
   ]
  },
  {
   "cell_type": "code",
   "execution_count": 5,
   "metadata": {},
   "outputs": [],
   "source": [
    "import pandas_datareader as web"
   ]
  },
  {
   "cell_type": "code",
   "execution_count": 7,
   "metadata": {},
   "outputs": [],
   "source": [
    "spy_etf = web.DataReader('SPY','yahoo')"
   ]
  },
  {
   "cell_type": "code",
   "execution_count": 8,
   "metadata": {},
   "outputs": [
    {
     "name": "stdout",
     "output_type": "stream",
     "text": [
      "<class 'pandas.core.frame.DataFrame'>\n",
      "DatetimeIndex: 1260 entries, 2017-04-24 to 2022-04-22\n",
      "Data columns (total 6 columns):\n",
      " #   Column     Non-Null Count  Dtype  \n",
      "---  ------     --------------  -----  \n",
      " 0   High       1260 non-null   float64\n",
      " 1   Low        1260 non-null   float64\n",
      " 2   Open       1260 non-null   float64\n",
      " 3   Close      1260 non-null   float64\n",
      " 4   Volume     1260 non-null   float64\n",
      " 5   Adj Close  1260 non-null   float64\n",
      "dtypes: float64(6)\n",
      "memory usage: 68.9 KB\n"
     ]
    }
   ],
   "source": [
    "spy_etf.info()"
   ]
  },
  {
   "cell_type": "code",
   "execution_count": 9,
   "metadata": {},
   "outputs": [
    {
     "data": {
      "text/html": [
       "<div>\n",
       "<style scoped>\n",
       "    .dataframe tbody tr th:only-of-type {\n",
       "        vertical-align: middle;\n",
       "    }\n",
       "\n",
       "    .dataframe tbody tr th {\n",
       "        vertical-align: top;\n",
       "    }\n",
       "\n",
       "    .dataframe thead th {\n",
       "        text-align: right;\n",
       "    }\n",
       "</style>\n",
       "<table border=\"1\" class=\"dataframe\">\n",
       "  <thead>\n",
       "    <tr style=\"text-align: right;\">\n",
       "      <th></th>\n",
       "      <th>High</th>\n",
       "      <th>Low</th>\n",
       "      <th>Open</th>\n",
       "      <th>Close</th>\n",
       "      <th>Volume</th>\n",
       "      <th>Adj Close</th>\n",
       "    </tr>\n",
       "    <tr>\n",
       "      <th>Date</th>\n",
       "      <th></th>\n",
       "      <th></th>\n",
       "      <th></th>\n",
       "      <th></th>\n",
       "      <th></th>\n",
       "      <th></th>\n",
       "    </tr>\n",
       "  </thead>\n",
       "  <tbody>\n",
       "    <tr>\n",
       "      <th>2017-04-24</th>\n",
       "      <td>237.410004</td>\n",
       "      <td>234.559998</td>\n",
       "      <td>237.179993</td>\n",
       "      <td>237.169998</td>\n",
       "      <td>119209900.0</td>\n",
       "      <td>217.335434</td>\n",
       "    </tr>\n",
       "    <tr>\n",
       "      <th>2017-04-25</th>\n",
       "      <td>238.949997</td>\n",
       "      <td>237.809998</td>\n",
       "      <td>237.910004</td>\n",
       "      <td>238.550003</td>\n",
       "      <td>76698300.0</td>\n",
       "      <td>218.600037</td>\n",
       "    </tr>\n",
       "    <tr>\n",
       "      <th>2017-04-26</th>\n",
       "      <td>239.529999</td>\n",
       "      <td>238.350006</td>\n",
       "      <td>238.509995</td>\n",
       "      <td>238.399994</td>\n",
       "      <td>84702500.0</td>\n",
       "      <td>218.462524</td>\n",
       "    </tr>\n",
       "    <tr>\n",
       "      <th>2017-04-27</th>\n",
       "      <td>238.949997</td>\n",
       "      <td>237.979996</td>\n",
       "      <td>238.770004</td>\n",
       "      <td>238.600006</td>\n",
       "      <td>57410300.0</td>\n",
       "      <td>218.645874</td>\n",
       "    </tr>\n",
       "    <tr>\n",
       "      <th>2017-04-28</th>\n",
       "      <td>238.929993</td>\n",
       "      <td>237.929993</td>\n",
       "      <td>238.899994</td>\n",
       "      <td>238.080002</td>\n",
       "      <td>63532800.0</td>\n",
       "      <td>218.169312</td>\n",
       "    </tr>\n",
       "  </tbody>\n",
       "</table>\n",
       "</div>"
      ],
      "text/plain": [
       "                  High         Low        Open       Close       Volume  \\\n",
       "Date                                                                      \n",
       "2017-04-24  237.410004  234.559998  237.179993  237.169998  119209900.0   \n",
       "2017-04-25  238.949997  237.809998  237.910004  238.550003   76698300.0   \n",
       "2017-04-26  239.529999  238.350006  238.509995  238.399994   84702500.0   \n",
       "2017-04-27  238.949997  237.979996  238.770004  238.600006   57410300.0   \n",
       "2017-04-28  238.929993  237.929993  238.899994  238.080002   63532800.0   \n",
       "\n",
       "             Adj Close  \n",
       "Date                    \n",
       "2017-04-24  217.335434  \n",
       "2017-04-25  218.600037  \n",
       "2017-04-26  218.462524  \n",
       "2017-04-27  218.645874  \n",
       "2017-04-28  218.169312  "
      ]
     },
     "execution_count": 9,
     "metadata": {},
     "output_type": "execute_result"
    }
   ],
   "source": [
    "spy_etf.head()"
   ]
  },
  {
   "cell_type": "code",
   "execution_count": 11,
   "metadata": {},
   "outputs": [
    {
     "data": {
      "text/html": [
       "<div>\n",
       "<style scoped>\n",
       "    .dataframe tbody tr th:only-of-type {\n",
       "        vertical-align: middle;\n",
       "    }\n",
       "\n",
       "    .dataframe tbody tr th {\n",
       "        vertical-align: top;\n",
       "    }\n",
       "\n",
       "    .dataframe thead th {\n",
       "        text-align: right;\n",
       "    }\n",
       "</style>\n",
       "<table border=\"1\" class=\"dataframe\">\n",
       "  <thead>\n",
       "    <tr style=\"text-align: right;\">\n",
       "      <th></th>\n",
       "      <th>High</th>\n",
       "      <th>Low</th>\n",
       "      <th>Open</th>\n",
       "      <th>Close</th>\n",
       "      <th>Volume</th>\n",
       "      <th>Adj Close</th>\n",
       "    </tr>\n",
       "    <tr>\n",
       "      <th>Date</th>\n",
       "      <th></th>\n",
       "      <th></th>\n",
       "      <th></th>\n",
       "      <th></th>\n",
       "      <th></th>\n",
       "      <th></th>\n",
       "    </tr>\n",
       "  </thead>\n",
       "  <tbody>\n",
       "    <tr>\n",
       "      <th>2022-04-18</th>\n",
       "      <td>439.750000</td>\n",
       "      <td>435.609985</td>\n",
       "      <td>436.809998</td>\n",
       "      <td>437.970001</td>\n",
       "      <td>66002500.0</td>\n",
       "      <td>437.970001</td>\n",
       "    </tr>\n",
       "    <tr>\n",
       "      <th>2022-04-19</th>\n",
       "      <td>445.799988</td>\n",
       "      <td>437.679993</td>\n",
       "      <td>437.859985</td>\n",
       "      <td>445.040009</td>\n",
       "      <td>77821000.0</td>\n",
       "      <td>445.040009</td>\n",
       "    </tr>\n",
       "    <tr>\n",
       "      <th>2022-04-20</th>\n",
       "      <td>447.570007</td>\n",
       "      <td>443.480011</td>\n",
       "      <td>446.920013</td>\n",
       "      <td>444.709991</td>\n",
       "      <td>65224400.0</td>\n",
       "      <td>444.709991</td>\n",
       "    </tr>\n",
       "    <tr>\n",
       "      <th>2022-04-21</th>\n",
       "      <td>450.010010</td>\n",
       "      <td>437.100006</td>\n",
       "      <td>448.540009</td>\n",
       "      <td>438.059998</td>\n",
       "      <td>85417300.0</td>\n",
       "      <td>438.059998</td>\n",
       "    </tr>\n",
       "    <tr>\n",
       "      <th>2022-04-22</th>\n",
       "      <td>438.079987</td>\n",
       "      <td>425.440002</td>\n",
       "      <td>436.910004</td>\n",
       "      <td>426.040009</td>\n",
       "      <td>132354400.0</td>\n",
       "      <td>426.040009</td>\n",
       "    </tr>\n",
       "  </tbody>\n",
       "</table>\n",
       "</div>"
      ],
      "text/plain": [
       "                  High         Low        Open       Close       Volume  \\\n",
       "Date                                                                      \n",
       "2022-04-18  439.750000  435.609985  436.809998  437.970001   66002500.0   \n",
       "2022-04-19  445.799988  437.679993  437.859985  445.040009   77821000.0   \n",
       "2022-04-20  447.570007  443.480011  446.920013  444.709991   65224400.0   \n",
       "2022-04-21  450.010010  437.100006  448.540009  438.059998   85417300.0   \n",
       "2022-04-22  438.079987  425.440002  436.910004  426.040009  132354400.0   \n",
       "\n",
       "             Adj Close  \n",
       "Date                    \n",
       "2022-04-18  437.970001  \n",
       "2022-04-19  445.040009  \n",
       "2022-04-20  444.709991  \n",
       "2022-04-21  438.059998  \n",
       "2022-04-22  426.040009  "
      ]
     },
     "execution_count": 11,
     "metadata": {},
     "output_type": "execute_result"
    }
   ],
   "source": [
    "spy_etf.tail()"
   ]
  },
  {
   "cell_type": "code",
   "execution_count": 13,
   "metadata": {},
   "outputs": [],
   "source": [
    "start = pd.to_datetime('2017-04-24')\n",
    "end = pd.to_datetime('2022-04-22')"
   ]
  },
  {
   "cell_type": "code",
   "execution_count": 14,
   "metadata": {},
   "outputs": [],
   "source": [
    "aapl = web.DataReader('AAPL','yahoo',start,end)"
   ]
  },
  {
   "cell_type": "code",
   "execution_count": 15,
   "metadata": {},
   "outputs": [
    {
     "data": {
      "text/html": [
       "<div>\n",
       "<style scoped>\n",
       "    .dataframe tbody tr th:only-of-type {\n",
       "        vertical-align: middle;\n",
       "    }\n",
       "\n",
       "    .dataframe tbody tr th {\n",
       "        vertical-align: top;\n",
       "    }\n",
       "\n",
       "    .dataframe thead th {\n",
       "        text-align: right;\n",
       "    }\n",
       "</style>\n",
       "<table border=\"1\" class=\"dataframe\">\n",
       "  <thead>\n",
       "    <tr style=\"text-align: right;\">\n",
       "      <th></th>\n",
       "      <th>High</th>\n",
       "      <th>Low</th>\n",
       "      <th>Open</th>\n",
       "      <th>Close</th>\n",
       "      <th>Volume</th>\n",
       "      <th>Adj Close</th>\n",
       "    </tr>\n",
       "    <tr>\n",
       "      <th>Date</th>\n",
       "      <th></th>\n",
       "      <th></th>\n",
       "      <th></th>\n",
       "      <th></th>\n",
       "      <th></th>\n",
       "      <th></th>\n",
       "    </tr>\n",
       "  </thead>\n",
       "  <tbody>\n",
       "    <tr>\n",
       "      <th>2017-04-24</th>\n",
       "      <td>35.987499</td>\n",
       "      <td>35.794998</td>\n",
       "      <td>35.875000</td>\n",
       "      <td>35.910000</td>\n",
       "      <td>68537200.0</td>\n",
       "      <td>33.904774</td>\n",
       "    </tr>\n",
       "    <tr>\n",
       "      <th>2017-04-25</th>\n",
       "      <td>36.224998</td>\n",
       "      <td>35.967499</td>\n",
       "      <td>35.977501</td>\n",
       "      <td>36.132500</td>\n",
       "      <td>75486000.0</td>\n",
       "      <td>34.114853</td>\n",
       "    </tr>\n",
       "    <tr>\n",
       "      <th>2017-04-26</th>\n",
       "      <td>36.150002</td>\n",
       "      <td>35.845001</td>\n",
       "      <td>36.117500</td>\n",
       "      <td>35.919998</td>\n",
       "      <td>80164800.0</td>\n",
       "      <td>33.914215</td>\n",
       "    </tr>\n",
       "    <tr>\n",
       "      <th>2017-04-27</th>\n",
       "      <td>36.040001</td>\n",
       "      <td>35.827499</td>\n",
       "      <td>35.980000</td>\n",
       "      <td>35.947498</td>\n",
       "      <td>56985200.0</td>\n",
       "      <td>33.940186</td>\n",
       "    </tr>\n",
       "    <tr>\n",
       "      <th>2017-04-28</th>\n",
       "      <td>36.075001</td>\n",
       "      <td>35.817501</td>\n",
       "      <td>36.022499</td>\n",
       "      <td>35.912498</td>\n",
       "      <td>83441600.0</td>\n",
       "      <td>33.907146</td>\n",
       "    </tr>\n",
       "  </tbody>\n",
       "</table>\n",
       "</div>"
      ],
      "text/plain": [
       "                 High        Low       Open      Close      Volume  Adj Close\n",
       "Date                                                                         \n",
       "2017-04-24  35.987499  35.794998  35.875000  35.910000  68537200.0  33.904774\n",
       "2017-04-25  36.224998  35.967499  35.977501  36.132500  75486000.0  34.114853\n",
       "2017-04-26  36.150002  35.845001  36.117500  35.919998  80164800.0  33.914215\n",
       "2017-04-27  36.040001  35.827499  35.980000  35.947498  56985200.0  33.940186\n",
       "2017-04-28  36.075001  35.817501  36.022499  35.912498  83441600.0  33.907146"
      ]
     },
     "execution_count": 15,
     "metadata": {},
     "output_type": "execute_result"
    }
   ],
   "source": [
    "aapl.head()"
   ]
  },
  {
   "cell_type": "code",
   "execution_count": 16,
   "metadata": {
    "tags": []
   },
   "outputs": [],
   "source": [
    "import matplotlib.pyplot as plt\n",
    "%matplotlib inline"
   ]
  },
  {
   "cell_type": "code",
   "execution_count": 17,
   "metadata": {},
   "outputs": [
    {
     "data": {
      "image/png": "[encoded data removed]",
      "text/plain": [
       "<Figure size 720x576 with 1 Axes>"
      ]
     },
     "metadata": {
      "needs_background": "light"
     },
     "output_type": "display_data"
    }
   ],
   "source": [
    "aapl['Close'].plot(label='AAPL',figsize=(10,8))\n",
    "spy_etf['Close'].plot(label='SPY Index')\n",
    "plt.legend();"
   ]
  },
  {
   "cell_type": "markdown",
   "metadata": {},
   "source": [
    "## Compare Cumulative Return"
   ]
  },
  {
   "cell_type": "code",
   "execution_count": 18,
   "metadata": {},
   "outputs": [],
   "source": [
    "aapl['Cumulative'] = aapl['Close']/aapl['Close'].iloc[0]\n",
    "spy_etf['Cumulative'] = spy_etf['Close']/spy_etf['Close'].iloc[0]"
   ]
  },
  {
   "cell_type": "code",
   "execution_count": 19,
   "metadata": {},
   "outputs": [
    {
     "data": {
      "text/plain": [
       "Text(0.5, 1.0, 'Cumulative Return')"
      ]
     },
     "execution_count": 19,
     "metadata": {},
     "output_type": "execute_result"
    },
    {
     "data": {
      "image/png": "[encoded data removed]",
      "text/plain": [
       "<Figure size 720x576 with 1 Axes>"
      ]
     },
     "metadata": {
      "needs_background": "light"
     },
     "output_type": "display_data"
    }
   ],
   "source": [
    "aapl['Cumulative'].plot(label='AAPL',figsize=(10,8))\n",
    "spy_etf['Cumulative'].plot(label='SPY Index')\n",
    "plt.legend()\n",
    "plt.title('Cumulative Return')"
   ]
  },
  {
   "cell_type": "markdown",
   "metadata": {},
   "source": [
    "## Get Daily Return"
   ]
  },
  {
   "cell_type": "code",
   "execution_count": 20,
   "metadata": {
    "tags": []
   },
   "outputs": [],
   "source": [
    "aapl['Daily Return'] = aapl['Close'].pct_change(1)\n",
    "spy_etf['Daily Return'] = spy_etf['Close'].pct_change(1)"
   ]
  },
  {
   "cell_type": "code",
   "execution_count": 22,
   "metadata": {},
   "outputs": [
    {
     "data": {
      "image/png": "[encoded data removed]",
      "text/plain": [
       "<Figure size 432x288 with 1 Axes>"
      ]
     },
     "metadata": {
      "needs_background": "light"
     },
     "output_type": "display_data"
    }
   ],
   "source": [
    "plt.scatter(aapl['Daily Return'],spy_etf['Daily Return'],alpha=0.3);"
   ]
  },
  {
   "cell_type": "code",
   "execution_count": 24,
   "metadata": {},
   "outputs": [
    {
     "data": {
      "image/png": "[encoded data removed]",
      "text/plain": [
       "<Figure size 432x288 with 1 Axes>"
      ]
     },
     "metadata": {
      "needs_background": "light"
     },
     "output_type": "display_data"
    }
   ],
   "source": [
    "aapl['Daily Return'].hist(bins=100);"
   ]
  },
  {
   "cell_type": "code",
   "execution_count": 25,
   "metadata": {},
   "outputs": [
    {
     "data": {
      "image/png": "[encoded data removed]",
      "text/plain": [
       "<Figure size 432x288 with 1 Axes>"
      ]
     },
     "metadata": {
      "needs_background": "light"
     },
     "output_type": "display_data"
    }
   ],
   "source": [
    "spy_etf['Daily Return'].hist(bins=100);"
   ]
  },
  {
   "cell_type": "code",
   "execution_count": 26,
   "metadata": {},
   "outputs": [],
   "source": [
    "beta, alpha, r_value, p_value, std_err = stats.linregress(aapl['Daily Return'].iloc[1:],spy_etf['Daily Return'].iloc[1:])"
   ]
  },
  {
   "cell_type": "code",
   "execution_count": 27,
   "metadata": {},
   "outputs": [
    {
     "data": {
      "text/plain": [
       "0.48543427671789563"
      ]
     },
     "execution_count": 27,
     "metadata": {},
     "output_type": "execute_result"
    }
   ],
   "source": [
    "beta"
   ]
  },
  {
   "cell_type": "code",
   "execution_count": 28,
   "metadata": {},
   "outputs": [
    {
     "data": {
      "text/plain": [
       "-0.00013236620937053239"
      ]
     },
     "execution_count": 28,
     "metadata": {},
     "output_type": "execute_result"
    }
   ],
   "source": [
    "alpha"
   ]
  },
  {
   "cell_type": "code",
   "execution_count": 29,
   "metadata": {},
   "outputs": [
    {
     "data": {
      "text/plain": [
       "0.7725095718990597"
      ]
     },
     "execution_count": 29,
     "metadata": {},
     "output_type": "execute_result"
    }
   ],
   "source": [
    "r_value"
   ]
  },
  {
   "cell_type": "markdown",
   "metadata": {},
   "source": [
    "## What if our stock was completely related to SP500?"
   ]
  },
  {
   "cell_type": "code",
   "execution_count": 30,
   "metadata": {},
   "outputs": [
    {
     "data": {
      "text/plain": [
       "Date\n",
       "2017-04-24         NaN\n",
       "2017-04-25    0.005819\n",
       "2017-04-26   -0.000629\n",
       "2017-04-27    0.000839\n",
       "2017-04-28   -0.002179\n",
       "Name: Daily Return, dtype: float64"
      ]
     },
     "execution_count": 30,
     "metadata": {},
     "output_type": "execute_result"
    }
   ],
   "source": [
    "spy_etf['Daily Return'].head()"
   ]
  },
  {
   "cell_type": "code",
   "execution_count": 31,
   "metadata": {
    "tags": []
   },
   "outputs": [],
   "source": [
    "import numpy as np"
   ]
  },
  {
   "cell_type": "code",
   "execution_count": 34,
   "metadata": {},
   "outputs": [],
   "source": [
    "noise = np.random.normal(0, 0.001, len(spy_etf['Daily Return'].iloc[1:]))"
   ]
  },
  {
   "cell_type": "code",
   "execution_count": 35,
   "metadata": {},
   "outputs": [
    {
     "data": {
      "text/plain": [
       "array([-0.00089644, -0.00063495,  0.00019842, ...,  0.00061548,\n",
       "       -0.00197713, -0.00095022])"
      ]
     },
     "execution_count": 35,
     "metadata": {},
     "output_type": "execute_result"
    }
   ],
   "source": [
    "noise"
   ]
  },
  {
   "cell_type": "code",
   "execution_count": 36,
   "metadata": {},
   "outputs": [
    {
     "data": {
      "text/plain": [
       "Date\n",
       "2017-04-25    0.004922\n",
       "2017-04-26   -0.001264\n",
       "2017-04-27    0.001037\n",
       "2017-04-28   -0.003225\n",
       "2017-05-01    0.001752\n",
       "                ...   \n",
       "2022-04-18    0.000176\n",
       "2022-04-19    0.017039\n",
       "2022-04-20   -0.000126\n",
       "2022-04-21   -0.016931\n",
       "2022-04-22   -0.028389\n",
       "Name: Daily Return, Length: 1259, dtype: float64"
      ]
     },
     "execution_count": 36,
     "metadata": {},
     "output_type": "execute_result"
    }
   ],
   "source": [
    "spy_etf['Daily Return'].iloc[1:] + noise"
   ]
  },
  {
   "cell_type": "code",
   "execution_count": 37,
   "metadata": {
    "tags": []
   },
   "outputs": [],
   "source": [
    "beta, alpha, r_value, p_value, std_err = stats.linregress(spy_etf['Daily Return'].iloc[1:]+noise, spy_etf['Daily Return'].iloc[1:])"
   ]
  },
  {
   "cell_type": "code",
   "execution_count": 38,
   "metadata": {},
   "outputs": [
    {
     "data": {
      "text/plain": [
       "0.9895636391390584"
      ]
     },
     "execution_count": 38,
     "metadata": {},
     "output_type": "execute_result"
    }
   ],
   "source": [
    "beta"
   ]
  },
  {
   "cell_type": "code",
   "execution_count": 39,
   "metadata": {},
   "outputs": [
    {
     "data": {
      "text/plain": [
       "4.477879738216473e-05"
      ]
     },
     "execution_count": 39,
     "metadata": {},
     "output_type": "execute_result"
    }
   ],
   "source": [
    "alpha"
   ]
  }
 ],
 "metadata": {
  "kernelspec": {
   "display_name": "Python 3 (ipykernel)",
   "language": "python",
   "name": "python3"
  },
  "language_info": {
   "codemirror_mode": {
    "name": "ipython",
    "version": 3
   },
   "file_extension": ".py",
   "mimetype": "text/x-python",
   "name": "python",
   "nbconvert_exporter": "python",
   "pygments_lexer": "ipython3",
   "version": "3.8.13"
  }
 },
 "nbformat": 4,
 "nbformat_minor": 4
}
